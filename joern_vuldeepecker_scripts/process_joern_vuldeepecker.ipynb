{
 "cells": [
  {
   "cell_type": "markdown",
   "metadata": {},
   "source": [
    "# Process the Joern extracted function from Vuldeepecker dataset"
   ]
  },
  {
   "cell_type": "code",
   "execution_count": 111,
   "metadata": {},
   "outputs": [],
   "source": [
    "import pandas as pd\n",
    "import numpy as np\n",
    "import os\n",
    "import re\n",
    "from lxml import etree\n",
    "from clang import cindex\n",
    "from sklearn.model_selection import train_test_split"
   ]
  },
  {
   "cell_type": "markdown",
   "metadata": {},
   "source": [
    "### Prepare metadata from SARD manifest"
   ]
  },
  {
   "cell_type": "code",
   "execution_count": 4,
   "metadata": {},
   "outputs": [],
   "source": [
    "xml_file = []\n",
    "xml_label = []\n",
    "xml_vulline = []\n",
    "with open(\"VulDeePecker-master-joern/manifest.xml\",'rb') as f:\n",
    "  file_content = f.read()\n",
    "  tree = etree.fromstring(file_content)\n",
    "  testcase = tree.xpath('//testcase/file')\n",
    "  for doc in testcase:\n",
    "    mypath = doc.xpath('@path')[0]\n",
    "    try:\n",
    "        xml_file.append(mypath)\n",
    "        line = doc.xpath('flaw/@line')[0]\n",
    "        xml_label.append(1)\n",
    "        xml_vulline.append(int(line))\n",
    "    except:\n",
    "        xml_label.append(0)\n",
    "        xml_vulline.append(0)\n",
    "        continue"
   ]
  },
  {
   "cell_type": "markdown",
   "metadata": {},
   "source": [
    "### Process and sorting"
   ]
  },
  {
   "cell_type": "code",
   "execution_count": 5,
   "metadata": {},
   "outputs": [
    {
     "name": "stdout",
     "output_type": "stream",
     "text": [
      "No metadata file:  VulDeePecker-master-joern/CWE-119/source_files/CVE-2009-4376\n",
      "No metadata file:  VulDeePecker-master-joern/CWE-119/source_files/CVE-2010-4538\n",
      "No metadata file:  VulDeePecker-master-joern/CWE-119/source_files/CVE-2014-1509\n",
      "10629/10691\r"
     ]
    }
   ],
   "source": [
    "label = []\n",
    "fname = []\n",
    "vul_line = []\n",
    "functions = []\n",
    "cwe_list = []\n",
    "startEndLine = []\n",
    "oriFile = []\n",
    "pat = re.compile(r'(/\\*([^*]|(\\*+[^*/]))*\\*+/)|(//.*)')\n",
    "\n",
    "def get_vul_func(diff):\n",
    "    v_func=[]\n",
    "    v_line=[]\n",
    "    for doc in diff:\n",
    "        if '@@' in doc:\n",
    "            z= doc.split('@@')[-1].split('(')[0].split(' ')[-1]\n",
    "            z2= list(filter(str.strip,(re.findall(\"([1-90]*)\", doc.split('@@')[-2]))))[0]\n",
    "            v_func.append(z)\n",
    "            v_line.append(z2)\n",
    "    return(v_func, v_line)\n",
    "\n",
    "startPath='VulDeePecker-master-joern'\n",
    "\n",
    "filecount = 1\n",
    "total = 0\n",
    "header_file_vulns = []\n",
    "for CWE in ['CWE-399','CWE-119']:\n",
    "    total += len(os.listdir(startPath+'/'+CWE+'/source_files'))\n",
    "    for vuls in os.listdir(startPath+'/'+CWE+'/source_files'):\n",
    "        print('%d/%d'%(filecount,total), end='\\r')\n",
    "        \n",
    "        general_path = startPath+'/'+CWE+'/source_files/'+vuls\n",
    "        \n",
    "        z = [z.split('.')[-1] for z in os.listdir(general_path)]\n",
    "        if z.count('c') == 0 and z.count('cpp')==0:\n",
    "            header_file_vulns.append(general_path)\n",
    "            continue\n",
    "        \n",
    "        try:\n",
    "            metadata = pd.read_csv(general_path+'/metadata.csv',\n",
    "                                  names=['filePath','oriPath','lineStart','lineEnd'])\n",
    "        except FileNotFoundError:\n",
    "            print('No metadata file: ',general_path)\n",
    "            continue\n",
    "        \n",
    "        if 'CVE' in vuls:\n",
    "            diff = open(general_path+'/'+vuls+'.txt','r').readlines()\n",
    "            vul_func_list, vul_func_line_list  = get_vul_func(diff)\n",
    "        \n",
    "        for fp,op,ls,le in zip(metadata['filePath'],metadata['oriPath'],metadata['lineStart'],metadata['lineEnd']):\n",
    "            filename = general_path+'/'+fp.split('/')[-1]\n",
    "            with open(filename, 'r', encoding=\"utf8\", errors='ignore') as fh:\n",
    "                code = fh.read()\n",
    "            code = re.sub(pat,'',code)\n",
    "            functions.append(code)\n",
    "            fname.append(filename)\n",
    "            cwe_list.append(CWE)\n",
    "            startEndLine.append('%d,%d'%(ls,le))\n",
    "            oriFile.append(op)\n",
    "            if op in xml_file:\n",
    "                file_idx = xml_file.index(op)\n",
    "                if xml_vulline[file_idx] >= ls and xml_vulline[file_idx] <= le:\n",
    "                    vul_line.append(xml_vulline[file_idx])\n",
    "                    label.append(1)\n",
    "                else:\n",
    "                    vul_line.append(0)\n",
    "                    label.append(0)\n",
    "                    \n",
    "            else:\n",
    "                if 'CVE' in vuls:\n",
    "                    func_name = code.split('(')[0].split(' ')[-1].strip('\\n')\n",
    "                    if func_name in vul_func_list:\n",
    "                        label.append(1)\n",
    "                        vul_line.append(vul_func_line_list[vul_func_list.index(func_name)])\n",
    "                        continue\n",
    "\n",
    "                vul_line.append(0)\n",
    "                label.append(0)\n",
    "            \n",
    "        filecount +=1\n",
    "    "
   ]
  },
  {
   "cell_type": "code",
   "execution_count": null,
   "metadata": {},
   "outputs": [],
   "source": [
    "mydf = pd.DataFrame({'functionSource':functions,'fName':fname,'oriFile':oriFile,'startEndLine':startEndLine,'label':label, 'vulLine':vul_line, 'cwe':cwe_list})"
   ]
  },
  {
   "cell_type": "markdown",
   "metadata": {},
   "source": [
    "### Parse using Clang"
   ]
  },
  {
   "cell_type": "code",
   "execution_count": 105,
   "metadata": {},
   "outputs": [],
   "source": [
    "cindex.Config.set_library_file('/usr/lib/llvm-10/lib/libclang-10.so.1')"
   ]
  },
  {
   "cell_type": "code",
   "execution_count": 106,
   "metadata": {},
   "outputs": [],
   "source": [
    "cidx = cindex.Index.create()"
   ]
  },
  {
   "cell_type": "code",
   "execution_count": 107,
   "metadata": {},
   "outputs": [],
   "source": [
    "def clang_tokenizer(code):\n",
    "    ## Remove code comments\n",
    "    pat = re.compile(r'(/\\*([^*]|(\\*+[^*/]))*\\*+/)|(//.*)')\n",
    "    code = re.sub(pat,'',code)\n",
    "    \n",
    "    ## Tokkenize using clang\n",
    "    tok = []\n",
    "    tu = cidx.parse('tmp.cpp',\n",
    "                   args=[''],  \n",
    "                   unsaved_files=[('tmp.cpp', code)],  \n",
    "                   options=0)\n",
    "    for t in tu.get_tokens(extent=tu.cursor.extent):\n",
    "        tok.append(t.spelling)\n",
    "    return(tok)"
   ]
  },
  {
   "cell_type": "code",
   "execution_count": 108,
   "metadata": {},
   "outputs": [],
   "source": [
    "mydf.functionSource = mydf.functionSource.apply(clang_tokenizer)"
   ]
  },
  {
   "cell_type": "markdown",
   "metadata": {},
   "source": [
    "### Split into (train/val/test) and save to file"
   ]
  },
  {
   "cell_type": "code",
   "execution_count": 117,
   "metadata": {},
   "outputs": [],
   "source": [
    "train, test = train_test_split(mydf, train_size=0.7, random_state=1)\n",
    "val, test = train_test_split(test, train_size=0.5, random_state=1)"
   ]
  },
  {
   "cell_type": "code",
   "execution_count": null,
   "metadata": {},
   "outputs": [],
   "source": [
    "train.to_pickle('vuldeepecker_func_train_tokkenized.pkl')\n",
    "val.to_pickle('vuldeepecker_func_val_tokkenized.pkl')\n",
    "test.to_pickle('vuldeepecker_func_test_tokkenized.pkl')"
   ]
  },
  {
   "cell_type": "code",
   "execution_count": null,
   "metadata": {},
   "outputs": [],
   "source": []
  }
 ],
 "metadata": {
  "kernelspec": {
   "display_name": "Python 3",
   "language": "python",
   "name": "python3"
  },
  "language_info": {
   "codemirror_mode": {
    "name": "ipython",
    "version": 3
   },
   "file_extension": ".py",
   "mimetype": "text/x-python",
   "name": "python",
   "nbconvert_exporter": "python",
   "pygments_lexer": "ipython3",
   "version": "3.8.5"
  }
 },
 "nbformat": 4,
 "nbformat_minor": 4
}
